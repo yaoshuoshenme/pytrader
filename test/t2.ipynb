{
 "cells": [
  {
   "cell_type": "code",
   "execution_count": 1,
   "metadata": {},
   "outputs": [],
   "source": [
    "import requests as req\n",
    "import tushare as ts"
   ]
  },
  {
   "cell_type": "code",
   "execution_count": 10,
   "metadata": {},
   "outputs": [
    {
     "name": "stdout",
     "output_type": "stream",
     "text": [
      "e89a5a55f9dde4e87b3fa3f87691945fada84a6a4849dc9918025101\n"
     ]
    }
   ],
   "source": [
    "import json\n",
    "\n",
    "with open('../tushare.json') as tj:\n",
    "    r = json.load(tj)\n",
    "print(r['token'])"
   ]
  },
  {
   "cell_type": "code",
   "execution_count": 4,
   "metadata": {},
   "outputs": [],
   "source": [
    "def is_limit_10(open, close):\n",
    "    return (close - open)/open > 0.09\n",
    "\n",
    "def is_limit_20(open, close):\n",
    "    return (close - open) / open > 0.19\n",
    "\n",
    "def is_down_10(open, close):\n",
    "    return (open - close) / open > 0.09\n",
    "\n",
    "def is_down_20(open, close):\n",
    "    return (open -close) / open > 0.19"
   ]
  },
  {
   "cell_type": "code",
   "execution_count": 6,
   "metadata": {},
   "outputs": [
    {
     "data": {
      "text/plain": [
       "True"
      ]
     },
     "execution_count": 6,
     "metadata": {},
     "output_type": "execute_result"
    }
   ],
   "source": [
    "is_limit_20(3.2, 5.3)"
   ]
  },
  {
   "cell_type": "code",
   "execution_count": null,
   "metadata": {},
   "outputs": [],
   "source": []
  }
 ],
 "metadata": {
  "kernelspec": {
   "display_name": "Python ('pytdx')",
   "language": "python",
   "name": "python3"
  },
  "language_info": {
   "codemirror_mode": {
    "name": "ipython",
    "version": 3
   },
   "file_extension": ".py",
   "mimetype": "text/x-python",
   "name": "python",
   "nbconvert_exporter": "python",
   "pygments_lexer": "ipython3",
   "version": ""
  },
  "orig_nbformat": 4,
  "vscode": {
   "interpreter": {
    "hash": "25a19fbe0a9132dfb9279d48d161753c6352f8f9478c2e74383d340069b907c3"
   }
  }
 },
 "nbformat": 4,
 "nbformat_minor": 2
}
